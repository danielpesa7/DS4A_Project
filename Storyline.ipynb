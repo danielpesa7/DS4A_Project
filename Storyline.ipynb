{
 "cells": [
  {
   "cell_type": "code",
   "execution_count": 1,
   "metadata": {},
   "outputs": [],
   "source": [
    "import numpy as np\n",
    "import pandas as pd\n",
    "import scipy\n",
    "import os\n",
    "import matplotlib.pyplot as plt\n",
    "import seaborn as sns\n",
    "%matplotlib inline"
   ]
  },
  {
   "cell_type": "code",
   "execution_count": 172,
   "metadata": {},
   "outputs": [
    {
     "data": {
      "text/html": [
       "<div>\n",
       "<style scoped>\n",
       "    .dataframe tbody tr th:only-of-type {\n",
       "        vertical-align: middle;\n",
       "    }\n",
       "\n",
       "    .dataframe tbody tr th {\n",
       "        vertical-align: top;\n",
       "    }\n",
       "\n",
       "    .dataframe thead th {\n",
       "        text-align: right;\n",
       "    }\n",
       "</style>\n",
       "<table border=\"1\" class=\"dataframe\">\n",
       "  <thead>\n",
       "    <tr style=\"text-align: right;\">\n",
       "      <th></th>\n",
       "      <th>Unnamed: 0</th>\n",
       "      <th>dpto</th>\n",
       "      <th>mpio</th>\n",
       "      <th>cabecera</th>\n",
       "      <th>cod_encuestas</th>\n",
       "      <th>cant_vivienda</th>\n",
       "      <th>cant_hog</th>\n",
       "      <th>cant_per</th>\n",
       "      <th>sexo</th>\n",
       "      <th>edad</th>\n",
       "      <th>...</th>\n",
       "      <th>nivel_educ</th>\n",
       "      <th>trabajo</th>\n",
       "      <th>est_civil</th>\n",
       "      <th>hnvh</th>\n",
       "      <th>hnvm</th>\n",
       "      <th>hvh</th>\n",
       "      <th>hvm</th>\n",
       "      <th>hfch</th>\n",
       "      <th>hfcm</th>\n",
       "      <th>date_uhnv</th>\n",
       "    </tr>\n",
       "  </thead>\n",
       "  <tbody>\n",
       "    <tr>\n",
       "      <td>0</td>\n",
       "      <td>0</td>\n",
       "      <td>5</td>\n",
       "      <td>45</td>\n",
       "      <td>False</td>\n",
       "      <td>32.0</td>\n",
       "      <td>1.0</td>\n",
       "      <td>1.0</td>\n",
       "      <td>1.0</td>\n",
       "      <td>Hombre</td>\n",
       "      <td>2.0</td>\n",
       "      <td>...</td>\n",
       "      <td>Basico</td>\n",
       "      <td>NaN</td>\n",
       "      <td>NaN</td>\n",
       "      <td>NaN</td>\n",
       "      <td>NaN</td>\n",
       "      <td>NaN</td>\n",
       "      <td>NaN</td>\n",
       "      <td>NaN</td>\n",
       "      <td>NaN</td>\n",
       "      <td>NaT</td>\n",
       "    </tr>\n",
       "    <tr>\n",
       "      <td>1</td>\n",
       "      <td>1</td>\n",
       "      <td>88</td>\n",
       "      <td>1</td>\n",
       "      <td>True</td>\n",
       "      <td>35.0</td>\n",
       "      <td>1.0</td>\n",
       "      <td>1.0</td>\n",
       "      <td>1.0</td>\n",
       "      <td>Hombre</td>\n",
       "      <td>4.0</td>\n",
       "      <td>...</td>\n",
       "      <td>Basico</td>\n",
       "      <td>Estudio</td>\n",
       "      <td>Soltero</td>\n",
       "      <td>NaN</td>\n",
       "      <td>NaN</td>\n",
       "      <td>NaN</td>\n",
       "      <td>NaN</td>\n",
       "      <td>NaN</td>\n",
       "      <td>NaN</td>\n",
       "      <td>NaT</td>\n",
       "    </tr>\n",
       "    <tr>\n",
       "      <td>2</td>\n",
       "      <td>2</td>\n",
       "      <td>5</td>\n",
       "      <td>45</td>\n",
       "      <td>True</td>\n",
       "      <td>84.0</td>\n",
       "      <td>1.0</td>\n",
       "      <td>1.0</td>\n",
       "      <td>1.0</td>\n",
       "      <td>Mujer</td>\n",
       "      <td>6.0</td>\n",
       "      <td>...</td>\n",
       "      <td>Medio</td>\n",
       "      <td>Remunerado</td>\n",
       "      <td>Emparejado</td>\n",
       "      <td>2.0</td>\n",
       "      <td>0.0</td>\n",
       "      <td>2.0</td>\n",
       "      <td>0.0</td>\n",
       "      <td>NaN</td>\n",
       "      <td>NaN</td>\n",
       "      <td>2012-12-01</td>\n",
       "    </tr>\n",
       "    <tr>\n",
       "      <td>3</td>\n",
       "      <td>3</td>\n",
       "      <td>5</td>\n",
       "      <td>45</td>\n",
       "      <td>True</td>\n",
       "      <td>85.0</td>\n",
       "      <td>1.0</td>\n",
       "      <td>1.0</td>\n",
       "      <td>1.0</td>\n",
       "      <td>Hombre</td>\n",
       "      <td>8.0</td>\n",
       "      <td>...</td>\n",
       "      <td>Basico</td>\n",
       "      <td>Remunerado</td>\n",
       "      <td>Emparejado</td>\n",
       "      <td>NaN</td>\n",
       "      <td>NaN</td>\n",
       "      <td>NaN</td>\n",
       "      <td>NaN</td>\n",
       "      <td>NaN</td>\n",
       "      <td>NaN</td>\n",
       "      <td>NaT</td>\n",
       "    </tr>\n",
       "    <tr>\n",
       "      <td>4</td>\n",
       "      <td>4</td>\n",
       "      <td>5</td>\n",
       "      <td>45</td>\n",
       "      <td>True</td>\n",
       "      <td>97.0</td>\n",
       "      <td>1.0</td>\n",
       "      <td>1.0</td>\n",
       "      <td>1.0</td>\n",
       "      <td>Hombre</td>\n",
       "      <td>7.0</td>\n",
       "      <td>...</td>\n",
       "      <td>Medio</td>\n",
       "      <td>No_Remunerado</td>\n",
       "      <td>Emparejado</td>\n",
       "      <td>NaN</td>\n",
       "      <td>NaN</td>\n",
       "      <td>NaN</td>\n",
       "      <td>NaN</td>\n",
       "      <td>NaN</td>\n",
       "      <td>NaN</td>\n",
       "      <td>NaT</td>\n",
       "    </tr>\n",
       "  </tbody>\n",
       "</table>\n",
       "<p>5 rows × 29 columns</p>\n",
       "</div>"
      ],
      "text/plain": [
       "   Unnamed: 0 dpto mpio  cabecera  cod_encuestas  cant_vivienda  cant_hog  \\\n",
       "0           0    5   45     False           32.0            1.0       1.0   \n",
       "1           1   88    1      True           35.0            1.0       1.0   \n",
       "2           2    5   45      True           84.0            1.0       1.0   \n",
       "3           3    5   45      True           85.0            1.0       1.0   \n",
       "4           4    5   45      True           97.0            1.0       1.0   \n",
       "\n",
       "   cant_per    sexo  edad  ... nivel_educ        trabajo   est_civil hnvh  \\\n",
       "0       1.0  Hombre   2.0  ...     Basico            NaN         NaN  NaN   \n",
       "1       1.0  Hombre   4.0  ...     Basico        Estudio     Soltero  NaN   \n",
       "2       1.0   Mujer   6.0  ...      Medio     Remunerado  Emparejado  2.0   \n",
       "3       1.0  Hombre   8.0  ...     Basico     Remunerado  Emparejado  NaN   \n",
       "4       1.0  Hombre   7.0  ...      Medio  No_Remunerado  Emparejado  NaN   \n",
       "\n",
       "  hnvm  hvh  hvm  hfch  hfcm  date_uhnv  \n",
       "0  NaN  NaN  NaN   NaN   NaN        NaT  \n",
       "1  NaN  NaN  NaN   NaN   NaN        NaT  \n",
       "2  0.0  2.0  0.0   NaN   NaN 2012-12-01  \n",
       "3  NaN  NaN  NaN   NaN   NaN        NaT  \n",
       "4  NaN  NaN  NaN   NaN   NaN        NaT  \n",
       "\n",
       "[5 rows x 29 columns]"
      ]
     },
     "execution_count": 172,
     "metadata": {},
     "output_type": "execute_result"
    }
   ],
   "source": [
    "df = pd.read_csv(os.path.join('.', 'colombia_data_sample.csv'))\n",
    "df = df.astype({'dpto':'category', \n",
    "                'mpio':'category', \n",
    "                'cabecera':'bool',\n",
    "                'cod_encuestas':'float64',\n",
    "                'cant_vivienda':'float64',\n",
    "                'cant_hog':'float64',\n",
    "                'cant_per':'float64',\n",
    "                'sexo':'category', \n",
    "                'edad':'float64',\n",
    "                'parentesco':'category', \n",
    "                'lug_nac':'category', \n",
    "                'vivia_5anos':'category', \n",
    "                'vivia_1ano':'category', \n",
    "                'enfermo':'category', \n",
    "                'atendido':'bool', \n",
    "                'calidad_serv':'float64',\n",
    "                'discapacidad':'bool', \n",
    "                'alfabeta':'bool', \n",
    "                'nivel_educ':'category', \n",
    "                'trabajo':'category', \n",
    "                'est_civil':'category', \n",
    "                'hnvh':'float64', \n",
    "                'hnvm':'float64', \n",
    "                'hnvm':'float64', \n",
    "                'hvh':'float64', \n",
    "                'hvm':'float64', \n",
    "                'hfch':'float64', \n",
    "                'hfcm':'float64'})\n",
    "df['date_uhnv'] = pd.to_datetime(df['date_uhnv'], errors='coerce')\n",
    "df.head()"
   ]
  },
  {
   "cell_type": "markdown",
   "metadata": {},
   "source": [
    "### Columnas:\n",
    "1. **dpto**: Departamento. (string)\n",
    "2. **mpio**: Municipalidad. (string)\n",
    "3. **cabecera**: ¿Municipalidad cabecera? (boolean)\n",
    "4. **cod_encuestas**: Código único de encuesta. (numeric)\n",
    "5. **cant_vivienda**: Cantidad de viviendas por código de encuesta. (numeric)\n",
    "6. **cant_hog**: Cantidad de hogares por vivienda. (numeric)\n",
    "7. **cant_per**: Cantidad de personas por hogar. (numeric)\n",
    "8. **sexo**: Sexo. (category: Hombre, Mujer)\n",
    "9. **edad**: Edad. (numeric: rangos de 5 años, edad 1 comprende de 0 a 4 años cumplidos y 21 de 100 en adelante)\n",
    "10. **parentesco**: Parentesco respecto a jefe de hogar. (category: Jefe_Hogar, Pareja, Hijo, Otro_Pariente, Otro_No_Pariente)\n",
    "11. **lug_nac**: Nacimiento respecto a municipio actual. (category: Lugar_Actual, Lugar_Otro)\n",
    "12. **vivia_5anos**: Vivienda respecto a municipio actual hace 5 años. (category: Lugar_Actual, Lugar_Otro)\n",
    "13. **vivia_1ano**: Vivienda respecto a municipio actual hace 1 año. (category: Lugar_Actual, Lugar_Otro)\n",
    "14. **enfermo**: Ayuda tomada la última vez que estuvo enfermo. NULL no ha estado enfermo en el último mes. (category: Profesional, No_Profesional, Nada)\n",
    "15. **atendido**: ¿Fue atendido por la IPS? (boolean)\n",
    "16. **calidad_serv**: Calificación del servicio de la IPS. (numeric)\n",
    "17. **discapacidad**: ¿Persona discapacitada? (boolean)\n",
    "18. **alfabeta**: ¿Es alfabeta? (bool)\n",
    "19. **nivel_educ**: Nivel de educación máximo alcanzado. (category: Basico, Medio, Avanzado, Ninguno)\n",
    "20. **trabajo**: Estado laboral. (category: Remunerado, No_Remunerado, Estudio, No_Apto)\n",
    "21. **est_civil**: Estado civil. (category: Emparejado, Separado, Viudo, Soltero)\n",
    "22. **hnvh**: Cantidad de hijos nacidos vivos hombres. (numeric)\n",
    "23. **hnvm**: Cantidad de hijas nacidas vivas mujeres. (numeric)\n",
    "24. **hvh**: Cantidad de hijos vivos hombres. (numeric)\n",
    "25. **hvm**: Cantidad de hijas vivas mujeres. (numeric)\n",
    "26. **hfch**: Cantidad de hijos fuera de Colombia hombres. (numeric)\n",
    "27. **hfcm**: Cantidad de hijas fuera de Colombia mujeres. (numeric)\n",
    "28. **date_uhnv**: Fecha de último hijo nacido vivo. (date)"
   ]
  },
  {
   "cell_type": "markdown",
   "metadata": {},
   "source": [
    "## Idea principal\n",
    "Se busca tomar una infografía base e irla filtrando hasta el punto que teniendo en cuenta las mismas variables se denotan diferencias de sexo en la cantidad de personas."
   ]
  },
  {
   "cell_type": "markdown",
   "metadata": {},
   "source": [
    "## Pre\n",
    "Se asume que a lo largo de las generaciones Colombia será como una foto"
   ]
  },
  {
   "cell_type": "markdown",
   "metadata": {},
   "source": [
    "## Escena 1\n",
    "Municipios se dividen en clusters de manera que se confunda la variable socio-económica."
   ]
  },
  {
   "cell_type": "code",
   "execution_count": 104,
   "metadata": {},
   "outputs": [
    {
     "data": {
      "text/plain": [
       "array([False,  True])"
      ]
     },
     "execution_count": 104,
     "metadata": {},
     "output_type": "execute_result"
    }
   ],
   "source": [
    "# Aquí irían los clusters, se dividieron entre cabeceras y no cabeceras en este caso\n",
    "df['cabecera'].unique()"
   ]
  },
  {
   "cell_type": "markdown",
   "metadata": {},
   "source": [
    "## Escena 2\n",
    "Nacen N parejas de niños (M/F) en municipios escogidos dentro de los clusters. Análisis de edad 1 y 2 (0 a 9) en columna \"enfermo\", se espera que el valor sea distinto a \"Nada\". (Edad 1 y 2 no poseen información de trabajo)\n",
    "¿Se debería filtrar por atención no recibida durante la enfermedad?\n",
    "Análisis de columna \"calidad_serv\" buscando si existe diferencia entre sexo (regresion lineal)"
   ]
  },
  {
   "cell_type": "code",
   "execution_count": 117,
   "metadata": {},
   "outputs": [
    {
     "name": "stdout",
     "output_type": "stream",
     "text": [
      "Para el cluster 0\n",
      "La cantidad de niños edad 1 que no reciben atención médica es 2.16%\n",
      "La cantidad de niñas edad 1 que no reciben atención médica es 1.98%\n",
      "Atención médica es independiente de sexo\n",
      "\n",
      "Para el cluster 1\n",
      "La cantidad de niños edad 1 que no reciben atención médica es 2.13%\n",
      "La cantidad de niñas edad 1 que no reciben atención médica es 1.81%\n",
      "Atención médica es independiente de sexo\n",
      "\n"
     ]
    }
   ],
   "source": [
    "for i, cabecera in enumerate(df['cabecera'].unique()):\n",
    "    print('Para el cluster {0:d}'.format(i))\n",
    "    # EDA\n",
    "    df_slice = df[(df['edad'].isin([1, 2])) & (df['cabecera'] == cabecera)]\n",
    "    enfermo_counts_h = df_slice[df_slice['sexo'] == 'Hombre']['enfermo'].value_counts()\n",
    "    enfermo_counts_m = df_slice[df_slice['sexo'] == 'Mujer']['enfermo'].value_counts()\n",
    "    porcentaje_no_atend_h = enfermo_counts_h['Nada'] / enfermo_counts_h.sum()\n",
    "    porcentaje_no_atend_m = enfermo_counts_m['Nada'] / enfermo_counts_m.sum()\n",
    "    print('La cantidad de niños edad 1 que no reciben atención médica es {0:.2f}%'.format(porcentaje_no_atend_h * 100))\n",
    "    print('La cantidad de niñas edad 1 que no reciben atención médica es {0:.2f}%'.format(porcentaje_no_atend_m * 100))\n",
    "    # Estadística\n",
    "    crosstab_counts = pd.crosstab(index = df_slice['sexo'], columns = df_slice['enfermo'] == 'Nada')\n",
    "    _, p_val, _, _ = scipy.stats.chi2_contingency(crosstab_counts)\n",
    "    print('Atención médica {0:s}es independiente de sexo\\n'.format('no ' if p_val < 0.05 else ''))"
   ]
  },
  {
   "cell_type": "markdown",
   "metadata": {},
   "source": [
    "## Escena 3: \n",
    "Edad 3 (10 a 14) se analiza columna \"trabajo\", se espera tenga el valor de \"Estudio\". Se filtra población."
   ]
  },
  {
   "cell_type": "code",
   "execution_count": 118,
   "metadata": {},
   "outputs": [
    {
     "name": "stdout",
     "output_type": "stream",
     "text": [
      "Para el cluster 0\n",
      "La cantidad de jovenes hombres edad 3 que no estudian es 6.81%\n",
      "La cantidad de jovenes mujeres edad 3 que no estudian es 6.64%\n",
      "Estudio es independiente de sexo\n",
      "\n",
      "Para el cluster 1\n",
      "La cantidad de jovenes hombres edad 3 que no estudian es 2.49%\n",
      "La cantidad de jovenes mujeres edad 3 que no estudian es 2.64%\n",
      "Estudio no es independiente de sexo\n",
      "\n"
     ]
    }
   ],
   "source": [
    "for i, cabecera in enumerate(df['cabecera'].unique()):\n",
    "    print('Para el cluster {0:d}'.format(i))\n",
    "    # EDA\n",
    "    df_slice = df[(df['edad'] == 3) & (df['cabecera'] == cabecera)]\n",
    "    estudio_counts_h = df_slice[df_slice['sexo'] == 'Hombre']['trabajo'].value_counts()\n",
    "    estudio_counts_m = df_slice[df_slice['sexo'] == 'Mujer']['trabajo'].value_counts()\n",
    "    porcentaje_no_estud_h = 1 - (estudio_counts_h['Estudio'] / estudio_counts_h.sum())\n",
    "    porcentaje_no_estud_m = 1 - (estudio_counts_m['Estudio'] / estudio_counts_m.sum())\n",
    "    print('La cantidad de jovenes hombres edad 3 que no estudian es {0:.2f}%'.format(porcentaje_no_estud_h * 100))\n",
    "    print('La cantidad de jovenes mujeres edad 3 que no estudian es {0:.2f}%'.format(porcentaje_no_estud_m * 100))\n",
    "    # Estadística\n",
    "    crosstab_counts = pd.crosstab(index = df_slice['sexo'], columns = df_slice['trabajo'] == 'Estudio')\n",
    "    _, p_val, _, _ = scipy.stats.chi2_contingency(crosstab_counts)\n",
    "    print('Estudio {0:s}es independiente de sexo\\n'.format('no ' if p_val < 0.05 else ''))"
   ]
  },
  {
   "cell_type": "markdown",
   "metadata": {},
   "source": [
    "## Escena 4:\n",
    "Edad 3 (10 a 14) se espera que no haya relación entre los hijos que tienen y su actividad académica, se tiene en cuenta cuadro de contingencia entre hijos nacidos (\"hnvh\" + \"hnvm\") respecto a \"trabajo\", si es significativo se filtra población."
   ]
  },
  {
   "cell_type": "code",
   "execution_count": 205,
   "metadata": {},
   "outputs": [
    {
     "name": "stdout",
     "output_type": "stream",
     "text": [
      "Para el cluster 0\n",
      "En edad 3, 9946 jovenes tienen 0 hijo(s), de los cuales el   6.51% abandonan sus estudios\n",
      "En edad 3, 16   jovenes tienen 1 hijo(s), de los cuales el  75.00% abandonan sus estudios\n",
      "En edad 3, 5    jovenes tienen 2 hijo(s), de los cuales el 100.00% abandonan sus estudios\n",
      "En edad 3, 4    jovenes tienen 3 hijo(s), de los cuales el 100.00% abandonan sus estudios\n",
      "Estudio no es independiente de cantidad de hijos\n",
      "\n",
      "Para el cluster 1\n",
      "En edad 3, 25933 jovenes tienen 0 hijo(s), de los cuales el   2.51% abandonan sus estudios\n",
      "En edad 3, 17    jovenes tienen 1 hijo(s), de los cuales el  56.25% abandonan sus estudios\n",
      "En edad 3, 2     jovenes tienen 2 hijo(s), de los cuales el 100.00% abandonan sus estudios\n",
      "En edad 3, 3     jovenes tienen 3 hijo(s), de los cuales el 100.00% abandonan sus estudios\n",
      "Estudio no es independiente de cantidad de hijos\n",
      "\n"
     ]
    }
   ],
   "source": [
    "for i, cabecera in enumerate(df['cabecera'].unique()):\n",
    "    print('Para el cluster {0:d}'.format(i))\n",
    "    # Slicing\n",
    "    df_slice = df[(df['edad'] == 3) & (df['cabecera'] == cabecera)].copy()\n",
    "    df_slice['hnvt'] = df_slice['hnvh'].fillna(0.0) + df_slice['hnvm'].fillna(0.0)\n",
    "    max_digit = len(str(max(df_slice.groupby('hnvt')['hnvt'].count())))\n",
    "    for ind, grouped in df_slice.groupby('hnvt'):\n",
    "        # EDA\n",
    "        estudio_counts = grouped['trabajo'].value_counts()\n",
    "        porcentaje_no_estud = 1 - (estudio_counts['Estudio'] / estudio_counts.sum())\n",
    "        print('En edad 3, {0:<{3:.0f}.0f} jovenes tienen {1:.0f} hijo(s), de los cuales el {2:>6.2f}% abandonan sus estudios' \\\n",
    "              .format(grouped['hnvt'].count(), ind, porcentaje_no_estud * 100, max_digit))\n",
    "    # Estadística\n",
    "    crosstab_counts = pd.crosstab(index = df_slice['hnvt'], columns = df_slice['trabajo'] == 'Estudio')\n",
    "    _, p_val, _, _ = scipy.stats.chi2_contingency(crosstab_counts)\n",
    "    print('Estudio {0:s}es independiente de cantidad de hijos\\n'.format('no ' if p_val < 0.05 else ''))"
   ]
  },
  {
   "cell_type": "markdown",
   "metadata": {},
   "source": [
    "## Escena 5:\n",
    "Edad 4 (15 a 19) los jovenes que ya mantienen su hogar deberían ser alfabetas para poder trabajar y mantenerse dignamente, se tiene encuenta \"parentesco\", se espera que si tiene el valor \"Jefe_Hogar\" entonces \"alfabeta\" sea \"True\". Se filtra población."
   ]
  },
  {
   "cell_type": "code",
   "execution_count": null,
   "metadata": {},
   "outputs": [],
   "source": []
  },
  {
   "cell_type": "markdown",
   "metadata": {},
   "source": [
    "## Escena 6\n",
    "Edad 5 (20 a 25)"
   ]
  },
  {
   "cell_type": "code",
   "execution_count": null,
   "metadata": {},
   "outputs": [],
   "source": []
  }
 ],
 "metadata": {
  "kernelspec": {
   "display_name": "Python 3",
   "language": "python",
   "name": "python3"
  },
  "language_info": {
   "codemirror_mode": {
    "name": "ipython",
    "version": 3
   },
   "file_extension": ".py",
   "mimetype": "text/x-python",
   "name": "python",
   "nbconvert_exporter": "python",
   "pygments_lexer": "ipython3",
   "version": "3.7.3"
  }
 },
 "nbformat": 4,
 "nbformat_minor": 2
}
