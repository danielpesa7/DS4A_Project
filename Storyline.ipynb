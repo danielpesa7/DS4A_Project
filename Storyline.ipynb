{
 "cells": [
  {
   "cell_type": "code",
   "execution_count": 1,
   "metadata": {},
   "outputs": [],
   "source": [
    "import numpy as np\n",
    "import pandas as pd\n",
    "import scipy\n",
    "import os\n",
    "import matplotlib.pyplot as plt\n",
    "import seaborn as sns\n",
    "%matplotlib inline"
   ]
  },
  {
   "cell_type": "raw",
   "metadata": {},
   "source": [
    "df = pd.read_csv(os.path.join('.', 'quantity_by_cluster.csv'))\n",
    "df = df.drop(columns='Unnamed: 0')\n",
    "df = df.astype({'cluster_a':'category',\n",
    "               'edad':'category',\n",
    "               'sexo':'category'})\n",
    "df"
   ]
  },
  {
   "cell_type": "code",
   "execution_count": 2,
   "metadata": {},
   "outputs": [
    {
     "data": {
      "text/html": [
       "<div>\n",
       "<style scoped>\n",
       "    .dataframe tbody tr th:only-of-type {\n",
       "        vertical-align: middle;\n",
       "    }\n",
       "\n",
       "    .dataframe tbody tr th {\n",
       "        vertical-align: top;\n",
       "    }\n",
       "\n",
       "    .dataframe thead th {\n",
       "        text-align: right;\n",
       "    }\n",
       "</style>\n",
       "<table border=\"1\" class=\"dataframe\">\n",
       "  <thead>\n",
       "    <tr style=\"text-align: right;\">\n",
       "      <th></th>\n",
       "      <th>cluster</th>\n",
       "      <th>edad</th>\n",
       "      <th>sexo</th>\n",
       "      <th>remuneracion_c_remunerado</th>\n",
       "      <th>remuneracion_c_no_remunerado</th>\n",
       "      <th>remuneracion_c_indeterminado</th>\n",
       "      <th>remuneracion_p_remunerado</th>\n",
       "      <th>remuneracion_p_no_remunerado</th>\n",
       "      <th>remuneracion_p_indeterminado</th>\n",
       "      <th>escolaridad_c_no_escolaridad</th>\n",
       "      <th>...</th>\n",
       "      <th>remuneracion_x_escolaridad_c_no_remunerado_x_basico</th>\n",
       "      <th>remuneracion_x_escolaridad_c_remunerado_x_avanzado</th>\n",
       "      <th>remuneracion_x_escolaridad_c_no_remunerado_x_avanzado</th>\n",
       "      <th>remuneracion_dado_escolaridad_p_remunerado_dado_no_escolaridad</th>\n",
       "      <th>remuneracion_dado_escolaridad_p_no_remunerado_dado_no_escolarid</th>\n",
       "      <th>remuneracion_dado_escolaridad_p_remunerado_dado_basico</th>\n",
       "      <th>remuneracion_dado_escolaridad_p_no_remunerado_dado_basico</th>\n",
       "      <th>remuneracion_dado_escolaridad_p_remunerado_dado_avanzado</th>\n",
       "      <th>remuneracion_dado_escolaridad_p_no_remunerado_dado_avanzado</th>\n",
       "      <th>poblacion_total</th>\n",
       "    </tr>\n",
       "  </thead>\n",
       "  <tbody>\n",
       "    <tr>\n",
       "      <td>0</td>\n",
       "      <td>0</td>\n",
       "      <td>1</td>\n",
       "      <td>H</td>\n",
       "      <td>0</td>\n",
       "      <td>0</td>\n",
       "      <td>59903</td>\n",
       "      <td>0.00</td>\n",
       "      <td>0.00</td>\n",
       "      <td>1.00</td>\n",
       "      <td>0</td>\n",
       "      <td>...</td>\n",
       "      <td>0</td>\n",
       "      <td>0</td>\n",
       "      <td>0</td>\n",
       "      <td>0.00</td>\n",
       "      <td>0.00</td>\n",
       "      <td>0.00</td>\n",
       "      <td>0.00</td>\n",
       "      <td>0.0</td>\n",
       "      <td>0.0</td>\n",
       "      <td>59903</td>\n",
       "    </tr>\n",
       "    <tr>\n",
       "      <td>1</td>\n",
       "      <td>0</td>\n",
       "      <td>1</td>\n",
       "      <td>M</td>\n",
       "      <td>0</td>\n",
       "      <td>0</td>\n",
       "      <td>56630</td>\n",
       "      <td>0.00</td>\n",
       "      <td>0.00</td>\n",
       "      <td>1.00</td>\n",
       "      <td>0</td>\n",
       "      <td>...</td>\n",
       "      <td>0</td>\n",
       "      <td>0</td>\n",
       "      <td>0</td>\n",
       "      <td>0.00</td>\n",
       "      <td>0.00</td>\n",
       "      <td>0.00</td>\n",
       "      <td>0.00</td>\n",
       "      <td>0.0</td>\n",
       "      <td>0.0</td>\n",
       "      <td>56630</td>\n",
       "    </tr>\n",
       "    <tr>\n",
       "      <td>2</td>\n",
       "      <td>0</td>\n",
       "      <td>2</td>\n",
       "      <td>H</td>\n",
       "      <td>0</td>\n",
       "      <td>0</td>\n",
       "      <td>67939</td>\n",
       "      <td>0.00</td>\n",
       "      <td>0.00</td>\n",
       "      <td>1.00</td>\n",
       "      <td>1352</td>\n",
       "      <td>...</td>\n",
       "      <td>0</td>\n",
       "      <td>0</td>\n",
       "      <td>0</td>\n",
       "      <td>0.00</td>\n",
       "      <td>0.00</td>\n",
       "      <td>0.00</td>\n",
       "      <td>0.00</td>\n",
       "      <td>0.0</td>\n",
       "      <td>0.0</td>\n",
       "      <td>67939</td>\n",
       "    </tr>\n",
       "    <tr>\n",
       "      <td>3</td>\n",
       "      <td>0</td>\n",
       "      <td>2</td>\n",
       "      <td>M</td>\n",
       "      <td>0</td>\n",
       "      <td>0</td>\n",
       "      <td>65398</td>\n",
       "      <td>0.00</td>\n",
       "      <td>0.00</td>\n",
       "      <td>1.00</td>\n",
       "      <td>1120</td>\n",
       "      <td>...</td>\n",
       "      <td>0</td>\n",
       "      <td>0</td>\n",
       "      <td>0</td>\n",
       "      <td>0.00</td>\n",
       "      <td>0.00</td>\n",
       "      <td>0.00</td>\n",
       "      <td>0.00</td>\n",
       "      <td>0.0</td>\n",
       "      <td>0.0</td>\n",
       "      <td>65398</td>\n",
       "    </tr>\n",
       "    <tr>\n",
       "      <td>4</td>\n",
       "      <td>0</td>\n",
       "      <td>3</td>\n",
       "      <td>H</td>\n",
       "      <td>1518</td>\n",
       "      <td>74336</td>\n",
       "      <td>1676</td>\n",
       "      <td>0.02</td>\n",
       "      <td>0.96</td>\n",
       "      <td>0.02</td>\n",
       "      <td>500</td>\n",
       "      <td>...</td>\n",
       "      <td>73849</td>\n",
       "      <td>0</td>\n",
       "      <td>0</td>\n",
       "      <td>0.08</td>\n",
       "      <td>0.87</td>\n",
       "      <td>0.02</td>\n",
       "      <td>0.96</td>\n",
       "      <td>0.0</td>\n",
       "      <td>0.0</td>\n",
       "      <td>77530</td>\n",
       "    </tr>\n",
       "  </tbody>\n",
       "</table>\n",
       "<p>5 rows × 94 columns</p>\n",
       "</div>"
      ],
      "text/plain": [
       "   cluster  edad sexo  remuneracion_c_remunerado  \\\n",
       "0        0     1    H                          0   \n",
       "1        0     1    M                          0   \n",
       "2        0     2    H                          0   \n",
       "3        0     2    M                          0   \n",
       "4        0     3    H                       1518   \n",
       "\n",
       "   remuneracion_c_no_remunerado  remuneracion_c_indeterminado  \\\n",
       "0                             0                         59903   \n",
       "1                             0                         56630   \n",
       "2                             0                         67939   \n",
       "3                             0                         65398   \n",
       "4                         74336                          1676   \n",
       "\n",
       "   remuneracion_p_remunerado  remuneracion_p_no_remunerado  \\\n",
       "0                       0.00                          0.00   \n",
       "1                       0.00                          0.00   \n",
       "2                       0.00                          0.00   \n",
       "3                       0.00                          0.00   \n",
       "4                       0.02                          0.96   \n",
       "\n",
       "   remuneracion_p_indeterminado  escolaridad_c_no_escolaridad  ...  \\\n",
       "0                          1.00                             0  ...   \n",
       "1                          1.00                             0  ...   \n",
       "2                          1.00                          1352  ...   \n",
       "3                          1.00                          1120  ...   \n",
       "4                          0.02                           500  ...   \n",
       "\n",
       "   remuneracion_x_escolaridad_c_no_remunerado_x_basico  \\\n",
       "0                                                  0     \n",
       "1                                                  0     \n",
       "2                                                  0     \n",
       "3                                                  0     \n",
       "4                                              73849     \n",
       "\n",
       "   remuneracion_x_escolaridad_c_remunerado_x_avanzado  \\\n",
       "0                                                  0    \n",
       "1                                                  0    \n",
       "2                                                  0    \n",
       "3                                                  0    \n",
       "4                                                  0    \n",
       "\n",
       "   remuneracion_x_escolaridad_c_no_remunerado_x_avanzado  \\\n",
       "0                                                  0       \n",
       "1                                                  0       \n",
       "2                                                  0       \n",
       "3                                                  0       \n",
       "4                                                  0       \n",
       "\n",
       "   remuneracion_dado_escolaridad_p_remunerado_dado_no_escolaridad  \\\n",
       "0                                               0.00                \n",
       "1                                               0.00                \n",
       "2                                               0.00                \n",
       "3                                               0.00                \n",
       "4                                               0.08                \n",
       "\n",
       "   remuneracion_dado_escolaridad_p_no_remunerado_dado_no_escolarid  \\\n",
       "0                                               0.00                 \n",
       "1                                               0.00                 \n",
       "2                                               0.00                 \n",
       "3                                               0.00                 \n",
       "4                                               0.87                 \n",
       "\n",
       "   remuneracion_dado_escolaridad_p_remunerado_dado_basico  \\\n",
       "0                                               0.00        \n",
       "1                                               0.00        \n",
       "2                                               0.00        \n",
       "3                                               0.00        \n",
       "4                                               0.02        \n",
       "\n",
       "   remuneracion_dado_escolaridad_p_no_remunerado_dado_basico  \\\n",
       "0                                               0.00           \n",
       "1                                               0.00           \n",
       "2                                               0.00           \n",
       "3                                               0.00           \n",
       "4                                               0.96           \n",
       "\n",
       "   remuneracion_dado_escolaridad_p_remunerado_dado_avanzado  \\\n",
       "0                                                0.0          \n",
       "1                                                0.0          \n",
       "2                                                0.0          \n",
       "3                                                0.0          \n",
       "4                                                0.0          \n",
       "\n",
       "   remuneracion_dado_escolaridad_p_no_remunerado_dado_avanzado  \\\n",
       "0                                                0.0             \n",
       "1                                                0.0             \n",
       "2                                                0.0             \n",
       "3                                                0.0             \n",
       "4                                                0.0             \n",
       "\n",
       "   poblacion_total  \n",
       "0            59903  \n",
       "1            56630  \n",
       "2            67939  \n",
       "3            65398  \n",
       "4            77530  \n",
       "\n",
       "[5 rows x 94 columns]"
      ]
     },
     "execution_count": 2,
     "metadata": {},
     "output_type": "execute_result"
    }
   ],
   "source": [
    "import psycopg2\n",
    "from sqlalchemy import create_engine, text\n",
    "\n",
    "POSTGRES_ADDRESS = 'ds4ateam32.cl8xbcsviig5.us-west-2.rds.amazonaws.com'\n",
    "POSTGRES_PORT = '5432'\n",
    "POSTGRES_USERNAME = 'DS4ATEAM32'\n",
    "POSTGRES_PASSWORD = 'DS4ATEAM32'\n",
    "POSTGRES_DBNAME = 'DS4ATEAM32'\n",
    "postgres_str = 'postgresql://' + POSTGRES_USERNAME + ':' + POSTGRES_PASSWORD + '@' + POSTGRES_ADDRESS + ':' + POSTGRES_PORT + '/' + POSTGRES_DBNAME\n",
    "#print(postgres_str)\n",
    "engine = create_engine(postgres_str)\n",
    "\n",
    "q = \"\"\"\n",
    "SELECT * \n",
    "FROM cs_general2\n",
    ";\"\"\"\n",
    "df = pd.read_sql_query(q, engine)\n",
    "df.head()"
   ]
  },
  {
   "cell_type": "code",
   "execution_count": 3,
   "metadata": {},
   "outputs": [
    {
     "data": {
      "text/plain": [
       "Index(['cluster', 'edad', 'sexo', 'remuneracion_c_remunerado',\n",
       "       'remuneracion_c_no_remunerado', 'remuneracion_c_indeterminado',\n",
       "       'remuneracion_p_remunerado', 'remuneracion_p_no_remunerado',\n",
       "       'remuneracion_p_indeterminado', 'escolaridad_c_no_escolaridad',\n",
       "       'escolaridad_c_basico', 'escolaridad_c_avanzado',\n",
       "       'escolaridad_c_indeterminado', 'escolaridad_p_no_escolaridad',\n",
       "       'escolaridad_p_basico', 'escolaridad_p_avanzado',\n",
       "       'escolaridad_p_indeterminado', 'salud_c_atencion_formal',\n",
       "       'salud_c_atencion_no_formal', 'salud_c_atencion_indeterminado',\n",
       "       'salud_p_atencion_formal', 'salud_p_atencion_no_formal',\n",
       "       'salud_p_atencion_indeterminado', 'pareja_c_si', 'pareja_c_no',\n",
       "       'pareja_c_indeterminado', 'pareja_p_si', 'pareja_p_no',\n",
       "       'pareja_p_indeterminado', 'hijos_c_0', 'hijos_c_1', 'hijos_c_2',\n",
       "       'hijos_c_3_o_mas', 'hijos_p_0', 'hijos_p_1', 'hijos_p_2',\n",
       "       'hijos_p_3_o_mas', 'inmigracion1_c_no', 'inmigracion1_c_si',\n",
       "       'inmigracion1_c_indeterminado', 'inmigracion1_p_no',\n",
       "       'inmigracion1_p_si', 'inmigracion1_p_indeterminado',\n",
       "       'inmigracion5_c_no', 'inmigracion5_c_si',\n",
       "       'inmigracion5_c_indeterminado', 'inmigracion5_p_no',\n",
       "       'inmigracion5_p_si', 'inmigracion5_p_indeterminado',\n",
       "       'remuneracion_x_pareja_c_remunerado_x_si',\n",
       "       'remuneracion_x_pareja_c_no_remunerado_x_si',\n",
       "       'remuneracion_x_pareja_c_remunerado_x_no',\n",
       "       'remuneracion_x_pareja_c_no_remunerado_x_no',\n",
       "       'remuneracion_dado_pareja_p_remunerado_dado_si',\n",
       "       'remuneracion_dado_pareja_p_no_remunerado_dado_si',\n",
       "       'remuneracion_dado_pareja_p_remunerado_dado_no',\n",
       "       'remuneracion_dado_pareja_p_no_remunerado_dado_no',\n",
       "       'escolaridad_x_hijos_c_no_escolaridad_x_0',\n",
       "       'escolaridad_x_hijos_c_basico_x_0',\n",
       "       'escolaridad_x_hijos_c_avanzado_x_0',\n",
       "       'escolaridad_x_hijos_c_no_escolaridad_x_1',\n",
       "       'escolaridad_x_hijos_c_basico_x_1',\n",
       "       'escolaridad_x_hijos_c_avanzado_x_1',\n",
       "       'escolaridad_x_hijos_c_no_escolaridad_x_2',\n",
       "       'escolaridad_x_hijos_c_basico_x_2',\n",
       "       'escolaridad_x_hijos_c_avanzado_x_2',\n",
       "       'escolaridad_x_hijos_c_no_escolaridad_x_3_o_mas',\n",
       "       'escolaridad_x_hijos_c_basico_x_3_o_mas',\n",
       "       'escolaridad_x_hijos_c_avanzado_x_3_o_mas',\n",
       "       'escolaridad_dado_hijos_p_no_escolaridad_dado_0',\n",
       "       'escolaridad_dado_hijos_p_basico_dado_0',\n",
       "       'escolaridad_dado_hijos_p_avanzado_dado_0',\n",
       "       'escolaridad_dado_hijos_p_no_escolaridad_dado_1',\n",
       "       'escolaridad_dado_hijos_p_basico_dado_1',\n",
       "       'escolaridad_dado_hijos_p_avanzado_dado_1',\n",
       "       'escolaridad_dado_hijos_p_no_escolaridad_dado_2',\n",
       "       'escolaridad_dado_hijos_p_basico_dado_2',\n",
       "       'escolaridad_dado_hijos_p_avanzado_dado_2',\n",
       "       'escolaridad_dado_hijos_p_no_escolaridad_dado_3_o_mas',\n",
       "       'escolaridad_dado_hijos_p_basico_dado_3_o_mas',\n",
       "       'escolaridad_dado_hijos_p_avanzado_dado_3_o_mas',\n",
       "       'remuneracion_x_escolaridad_c_remunerado_x_no_escolaridad',\n",
       "       'remuneracion_x_escolaridad_c_no_remunerado_x_no_escolaridad',\n",
       "       'remuneracion_x_escolaridad_c_remunerado_x_basico',\n",
       "       'remuneracion_x_escolaridad_c_no_remunerado_x_basico',\n",
       "       'remuneracion_x_escolaridad_c_remunerado_x_avanzado',\n",
       "       'remuneracion_x_escolaridad_c_no_remunerado_x_avanzado',\n",
       "       'remuneracion_dado_escolaridad_p_remunerado_dado_no_escolaridad',\n",
       "       'remuneracion_dado_escolaridad_p_no_remunerado_dado_no_escolarid',\n",
       "       'remuneracion_dado_escolaridad_p_remunerado_dado_basico',\n",
       "       'remuneracion_dado_escolaridad_p_no_remunerado_dado_basico',\n",
       "       'remuneracion_dado_escolaridad_p_remunerado_dado_avanzado',\n",
       "       'remuneracion_dado_escolaridad_p_no_remunerado_dado_avanzado',\n",
       "       'poblacion_total'],\n",
       "      dtype='object')"
      ]
     },
     "execution_count": 3,
     "metadata": {},
     "output_type": "execute_result"
    }
   ],
   "source": [
    "df.columns"
   ]
  },
  {
   "cell_type": "markdown",
   "metadata": {},
   "source": [
    "## Idea principal\n",
    "Se busca tomar una infografía base e irla filtrando hasta el punto que teniendo en cuenta las mismas variables se denotan diferencias de sexo en la cantidad de personas."
   ]
  },
  {
   "cell_type": "markdown",
   "metadata": {},
   "source": [
    "## Escena 1\n",
    "Municipios se dividen en clusters de manera que se confunda la variable socio-económica."
   ]
  },
  {
   "cell_type": "code",
   "execution_count": 4,
   "metadata": {},
   "outputs": [
    {
     "data": {
      "text/plain": [
       "[3, 2]"
      ]
     },
     "execution_count": 4,
     "metadata": {},
     "output_type": "execute_result"
    }
   ],
   "source": [
    "# Aquí irían los clusters, se dividieron entre cabeceras y no cabeceras en este caso\n",
    "#iterator = df['cluster'].unique()\n",
    "iterator = [3, 2]\n",
    "iterator"
   ]
  },
  {
   "cell_type": "markdown",
   "metadata": {},
   "source": [
    "# Orden de clusters, 3 (alto) - 4 - 0 - 1 - 2 (bajo)"
   ]
  },
  {
   "cell_type": "markdown",
   "metadata": {},
   "source": [
    "## Escena 2:\n",
    "Nacen 2 parejas de niños (H/M) en municipios escogidos dentro de los clusters. Análisis de edad 1 y 2 (0 a 9) en columna \"enfermo\", se espera que el valor sea distinto a \"Nada\". (Edad 1 y 2 no poseen información de trabajo)\n",
    "\n",
    "No tiene significancia alguna, no se va a mostrar en la ppt. Se sugiere que en el proximo censo se tenga mas datos para educación"
   ]
  },
  {
   "cell_type": "code",
   "execution_count": 5,
   "metadata": {},
   "outputs": [
    {
     "name": "stdout",
     "output_type": "stream",
     "text": [
      "Para el cluster 3\n",
      "La cantidad de niños edades 0-9 que reciben atención médica es 134658~86.29%\n",
      "La cantidad de niñas edades 0-9 que reciben atención médica es 121602~85.49%\n",
      "Atención médica formal no es independiente de sexo\n",
      "\n",
      "Para el cluster 2\n",
      "La cantidad de niños edades 0-9 que reciben atención médica es 5751~79.34%\n",
      "La cantidad de niñas edades 0-9 que reciben atención médica es 5356~78.60%\n",
      "Atención médica formal es independiente de sexo\n",
      "\n"
     ]
    }
   ],
   "source": [
    "for cluster in iterator:\n",
    "    print('Para el cluster {0:d}'.format(cluster))\n",
    "    # EDA\n",
    "    df_slice = df[(df['edad'].isin([1, 2])) & (df['cluster'] == cluster)].copy()\n",
    "    df_slice['tot_enfermos'] = df_slice['salud_c_atencion_formal'] + df_slice['salud_c_atencion_no_formal']\n",
    "    df_slice_H = df_slice[df_slice['sexo'] == 'H']\n",
    "    df_slice_M = df_slice[df_slice['sexo'] == 'M']\n",
    "    porcentaje_atend_H = df_slice_H['salud_c_atencion_formal'].sum() / df_slice_H['tot_enfermos'].sum()\n",
    "    porcentaje_atend_M = df_slice_M['salud_c_atencion_formal'].sum() / df_slice_M['tot_enfermos'].sum()\n",
    "    print('La cantidad de niños edades 0-9 que reciben atención médica es {0:d}~{1:.2f}%'.\n",
    "          format(df_slice_H['salud_c_atencion_formal'].sum(), porcentaje_atend_H * 100))\n",
    "    print('La cantidad de niñas edades 0-9 que reciben atención médica es {0:d}~{1:.2f}%'.\n",
    "          format(df_slice_M['salud_c_atencion_formal'].sum(), porcentaje_atend_M * 100))\n",
    "    # Estadística\n",
    "    crosstab_counts = df_slice.groupby('sexo')[['salud_c_atencion_formal', 'salud_c_atencion_no_formal']].sum()\n",
    "    _, p_val, _, _ = scipy.stats.chi2_contingency(crosstab_counts)\n",
    "    print('Atención médica formal {0:s}es independiente de sexo\\n'.format('no ' if p_val < 0.05 else ''))"
   ]
  },
  {
   "cell_type": "markdown",
   "metadata": {},
   "source": [
    "## Escena 3: \n",
    "Edad 3 (10 a 14) se analiza columna \"trabajo\", se espera tenga el valor de \"Estudio\""
   ]
  },
  {
   "cell_type": "code",
   "execution_count": 6,
   "metadata": {},
   "outputs": [
    {
     "name": "stdout",
     "output_type": "stream",
     "text": [
      "Para el cluster 3\n",
      "La cantidad de jovenes hombres edad 3 no escolarizados es 870979~98.26%\n",
      "La cantidad de jovenes mujeres edad 3 no escolarizados es 837114~98.45%\n",
      "Estudio no es independiente de sexo\n",
      "\n",
      "Para el cluster 2\n",
      "La cantidad de jovenes hombres edad 3 no escolarizados es 55843~91.76%\n",
      "La cantidad de jovenes mujeres edad 3 no escolarizados es 53836~92.18%\n",
      "Estudio es independiente de sexo\n",
      "\n"
     ]
    }
   ],
   "source": [
    "for cluster in iterator:\n",
    "    print('Para el cluster {0:d}'.format(cluster))\n",
    "    # EDA\n",
    "    df_slice = df[(df['edad'] == 3) & (df['cluster'] == cluster)].copy()\n",
    "    p_no_esc_H = df_slice[df_slice['sexo'] == 'H']['escolaridad_c_basico'] / df_slice[df_slice['sexo'] == 'H']['poblacion_total']\n",
    "    p_no_esc_M = df_slice[df_slice['sexo'] == 'M']['escolaridad_c_basico'] / df_slice[df_slice['sexo'] == 'M']['poblacion_total']\n",
    "    print('La cantidad de jovenes hombres edad 3 no escolarizados es {0:d}~{1:.2f}%'.\n",
    "          format(df_slice[df_slice['sexo'] == 'H']['escolaridad_c_basico'].values[0], p_no_esc_H.values[0] * 100))\n",
    "    print('La cantidad de jovenes mujeres edad 3 no escolarizados es {0:d}~{1:.2f}%'.\n",
    "          format(df_slice[df_slice['sexo'] == 'M']['escolaridad_c_basico'].values[0], p_no_esc_M.values[0] * 100))\n",
    "    # Estadística\n",
    "    crosstab_counts = df_slice.groupby('sexo')[['escolaridad_c_basico', 'escolaridad_c_no_escolaridad']].sum()\n",
    "    _, p_val, _, _ = scipy.stats.chi2_contingency(crosstab_counts)\n",
    "    print('Estudio {0:s}es independiente de sexo\\n'.format('no ' if p_val < 0.05 else ''))"
   ]
  },
  {
   "cell_type": "markdown",
   "metadata": {},
   "source": [
    "## Escena 4:\n",
    "Edad 3 (10 a 14) se espera que no tengan hijos.\n",
    "\n",
    "Query: Obtener datos para 0, 1, 2 y 3+ hijos junto a variables de escolarizacion para compararlos"
   ]
  },
  {
   "cell_type": "code",
   "execution_count": 7,
   "metadata": {},
   "outputs": [
    {
     "name": "stdout",
     "output_type": "stream",
     "text": [
      "Para el cluster 3\n",
      "La cantidad de jovenes edad 3 sin hijos es 848383~99.77%\n",
      "La cantidad de jovenes edad 3 con 1 hijo es 1407~0.17%\n",
      "La cantidad de jovenes edad 3 con 2 hijos es 333~0.04%\n",
      "La cantidad de jovenes edad 3 con 3 o mas hijos es 206~0.02%\n",
      "\n",
      "Para el cluster 2\n",
      "La cantidad de jovenes edad 3 sin hijos es 57696~98.79%\n",
      "La cantidad de jovenes edad 3 con 1 hijo es 363~0.62%\n",
      "La cantidad de jovenes edad 3 con 2 hijos es 122~0.21%\n",
      "La cantidad de jovenes edad 3 con 3 o mas hijos es 221~0.38%\n",
      "\n"
     ]
    }
   ],
   "source": [
    "for cluster in iterator:\n",
    "    print('Para el cluster {0:d}'.format(cluster))\n",
    "    # EDA\n",
    "    df_slice = df[(df['edad'] == 3) & (df['cluster'] == cluster) & (df['sexo'] == 'M')].copy()\n",
    "    print('La cantidad de jovenes edad 3 sin hijos es {0:d}~{1:.2f}%'.\n",
    "          format(df_slice['hijos_c_0'].values[0], (df_slice['hijos_c_0'] / df_slice['poblacion_total'] * 100).values[0]))\n",
    "    print('La cantidad de jovenes edad 3 con 1 hijo es {0:d}~{1:.2f}%'.\n",
    "          format(df_slice['hijos_c_1'].values[0], (df_slice['hijos_c_1'] / df_slice['poblacion_total'] * 100).values[0]))\n",
    "    print('La cantidad de jovenes edad 3 con 2 hijos es {0:d}~{1:.2f}%'.\n",
    "          format(df_slice['hijos_c_2'].values[0], (df_slice['hijos_c_2'] / df_slice['poblacion_total'] * 100).values[0]))\n",
    "    print('La cantidad de jovenes edad 3 con 3 o mas hijos es {0:d}~{1:.2f}%\\n'.\n",
    "          format(df_slice['hijos_c_3_o_mas'].values[0], (df_slice['hijos_c_3_o_mas'] / df_slice['poblacion_total'] * 100).values[0]))"
   ]
  },
  {
   "cell_type": "code",
   "execution_count": 8,
   "metadata": {},
   "outputs": [
    {
     "name": "stdout",
     "output_type": "stream",
     "text": [
      "Para el cluster 3\n",
      "La cantidad de jovenes edad 3 sin hijos y no escolarizado es 3552~0.42%\n",
      "La cantidad de jovenes edad 3 sin hijos y no escolarizado es 16~1.14%\n",
      "La cantidad de jovenes edad 3 sin hijos y no escolarizado es 6~1.82%\n",
      "La cantidad de jovenes edad 3 sin hijos y no escolarizado es 2~0.97%\n",
      "Cantidad de hijos no es independiente de escolaridad\n",
      "\n",
      "Para el cluster 2\n",
      "La cantidad de jovenes edad 3 sin hijos y no escolarizado es 2774~4.95%\n",
      "La cantidad de jovenes edad 3 sin hijos y no escolarizado es 45~13.39%\n",
      "La cantidad de jovenes edad 3 sin hijos y no escolarizado es 12~10.53%\n",
      "La cantidad de jovenes edad 3 sin hijos y no escolarizado es 5~2.30%\n",
      "Cantidad de hijos no es independiente de escolaridad\n",
      "\n"
     ]
    }
   ],
   "source": [
    "for cluster in iterator:\n",
    "    print('Para el cluster {0:d}'.format(cluster))\n",
    "    # EDA\n",
    "    df_slice = df[(df['edad'] == 3) & (df['cluster'] == cluster) & (df['sexo'] == 'M')].copy()\n",
    "    p_nox0 = df_slice['escolaridad_x_hijos_c_no_escolaridad_x_0'] / df_slice[['escolaridad_x_hijos_c_no_escolaridad_x_0', 'escolaridad_x_hijos_c_basico_x_0']].sum(axis=1)\n",
    "    p_nox1 = df_slice['escolaridad_x_hijos_c_no_escolaridad_x_1'] / df_slice[['escolaridad_x_hijos_c_no_escolaridad_x_1', 'escolaridad_x_hijos_c_basico_x_1']].sum(axis=1)\n",
    "    p_nox2 = df_slice['escolaridad_x_hijos_c_no_escolaridad_x_2'] / df_slice[['escolaridad_x_hijos_c_no_escolaridad_x_2', 'escolaridad_x_hijos_c_basico_x_2']].sum(axis=1)\n",
    "    p_nox3 = df_slice['escolaridad_x_hijos_c_no_escolaridad_x_3_o_mas'] / df_slice[['escolaridad_x_hijos_c_no_escolaridad_x_3_o_mas', 'escolaridad_x_hijos_c_basico_x_3_o_mas']].sum(axis=1)\n",
    "    print('La cantidad de jovenes edad 3 sin hijos y no escolarizado es {0:d}~{1:.2f}%'.\n",
    "          format(df_slice['escolaridad_x_hijos_c_no_escolaridad_x_0'].values[0], p_nox0.values[0] * 100))\n",
    "    print('La cantidad de jovenes edad 3 sin hijos y no escolarizado es {0:d}~{1:.2f}%'.\n",
    "          format(df_slice['escolaridad_x_hijos_c_no_escolaridad_x_1'].values[0], p_nox1.values[0] * 100))\n",
    "    print('La cantidad de jovenes edad 3 sin hijos y no escolarizado es {0:d}~{1:.2f}%'.\n",
    "          format(df_slice['escolaridad_x_hijos_c_no_escolaridad_x_2'].values[0], p_nox2.values[0] * 100))\n",
    "    print('La cantidad de jovenes edad 3 sin hijos y no escolarizado es {0:d}~{1:.2f}%'.\n",
    "          format(df_slice['escolaridad_x_hijos_c_no_escolaridad_x_3_o_mas'].values[0], p_nox3.values[0] * 100))\n",
    "    # Estadística\n",
    "    crosstab_counts = pd.DataFrame(data={'0_hijo':[df_slice['escolaridad_x_hijos_c_no_escolaridad_x_0'].values[0], \n",
    "                                               df_slice['escolaridad_x_hijos_c_basico_x_0'].values[0]],\n",
    "                                    '1_hijo':[df_slice['escolaridad_x_hijos_c_no_escolaridad_x_1'].values[0],\n",
    "                                             df_slice['escolaridad_x_hijos_c_basico_x_1'].values[0]],\n",
    "                                    '2_hijo':[df_slice['escolaridad_x_hijos_c_no_escolaridad_x_2'].values[0],\n",
    "                                             df_slice['escolaridad_x_hijos_c_basico_x_2'].values[0]],\n",
    "                                    '3m_hijo':[df_slice['escolaridad_x_hijos_c_no_escolaridad_x_3_o_mas'].values[0],\n",
    "                                              df_slice['escolaridad_x_hijos_c_basico_x_3_o_mas'].values[0]],\n",
    "                                    'escolaridad':['no', 'basico']}).groupby('escolaridad').sum()\n",
    "    _, p_val, _, _ = scipy.stats.chi2_contingency(crosstab_counts)\n",
    "    print('Cantidad de hijos {0:s}es independiente de escolaridad\\n'.format('no ' if p_val < 0.05 else ''))"
   ]
  },
  {
   "cell_type": "markdown",
   "metadata": {},
   "source": [
    "## Escena 5: (Falta en tabla quantity)\n",
    "Edad 4 (15 a 19) los jovenes que ya mantienen su hogar deberían ser alfabetas para poder trabajar y mantenerse dignamente, se tiene encuenta \"parentesco\", se espera que si tiene el valor \"Jefe_Hogar\" o \"Pareja\" entonces \"alfabeta\" sea \"True\". ¿Se filtra población?\n",
    "\n",
    "Tabla: Falta cantidad de parentescos (\"Jefe_Hogar\" o \"Pareja\") en tabla quantity_by_cluster"
   ]
  },
  {
   "cell_type": "code",
   "execution_count": null,
   "metadata": {},
   "outputs": [],
   "source": []
  },
  {
   "cell_type": "markdown",
   "metadata": {},
   "source": [
    "## Escena 6\n",
    "Edad 5 (20 a 39) luego de haber logrado el camino de la educación, de los no hijos y de la salud, ahora se evalúan las condiciones de vida. Empezamos por analizar cuántos no poseen remuneración."
   ]
  },
  {
   "cell_type": "code",
   "execution_count": 9,
   "metadata": {},
   "outputs": [
    {
     "name": "stdout",
     "output_type": "stream",
     "text": [
      "Para el cluster 3\n",
      "La cantidad de hombres de edad 20-39 que tienen trabajo remunerado es 3071703~75.03%\n",
      "La cantidad de hombres de edad 20-39 que tienen trabajo remunerado es 2490496~58.96%\n",
      "Remuneración no es independiente de sexo\n",
      "\n",
      "Para el cluster 2\n",
      "La cantidad de hombres de edad 20-39 que tienen trabajo remunerado es 60681~44.28%\n",
      "La cantidad de hombres de edad 20-39 que tienen trabajo remunerado es 28464~21.43%\n",
      "Remuneración no es independiente de sexo\n",
      "\n"
     ]
    }
   ],
   "source": [
    "for cluster in iterator:\n",
    "    print('Para el cluster {0:d}'.format(cluster))\n",
    "    # EDA\n",
    "    df_slice = df[(df['edad'].isin([5, 6, 7, 8])) & (df['cluster'] == cluster)].copy()\n",
    "    p_rem_H = df_slice[df_slice['sexo'] == 'H']['remuneracion_c_remunerado'].sum() / df_slice[df_slice['sexo'] == 'H']['poblacion_total'].sum()\n",
    "    p_rem_M = df_slice[df_slice['sexo'] == 'M']['remuneracion_c_remunerado'].sum() / df_slice[df_slice['sexo'] == 'M']['poblacion_total'].sum()\n",
    "    print('La cantidad de hombres de edad 20-39 que tienen trabajo remunerado es {0:d}~{1:.2f}%'.\n",
    "          format(df_slice[df_slice['sexo'] == 'H']['remuneracion_c_remunerado'].sum(), p_rem_H * 100))\n",
    "    print('La cantidad de hombres de edad 20-39 que tienen trabajo remunerado es {0:d}~{1:.2f}%'.\n",
    "          format(df_slice[df_slice['sexo'] == 'M']['remuneracion_c_remunerado'].sum(), p_rem_M * 100))\n",
    "    # Estadística\n",
    "    crosstab_counts = df_slice.groupby('sexo')[['remuneracion_c_remunerado', 'remuneracion_c_no_remunerado']].sum()\n",
    "    _, p_val, _, _ = scipy.stats.chi2_contingency(crosstab_counts)\n",
    "    print('Remuneración {0:s}es independiente de sexo\\n'.format('no ' if p_val < 0.05 else ''))"
   ]
  },
  {
   "cell_type": "markdown",
   "metadata": {},
   "source": [
    "## Escena 7\n",
    "Edad 5 (25 a 39) Análisis migratorio"
   ]
  },
  {
   "cell_type": "code",
   "execution_count": 10,
   "metadata": {},
   "outputs": [
    {
     "name": "stdout",
     "output_type": "stream",
     "text": [
      "Para el cluster 3\n",
      "La cantidad de hombres de edad 20-39 que debieron inmigrar es 584271~14.27%\n",
      "La cantidad de mujeres de edad 20-39 que debieron inmigrar es 598078~14.16%\n",
      "Inmigracion no es independiente de sexo\n",
      "\n",
      "Para el cluster 2\n",
      "La cantidad de hombres de edad 20-39 que debieron inmigrar es 7564~5.52%\n",
      "La cantidad de mujeres de edad 20-39 que debieron inmigrar es 8034~6.05%\n",
      "Inmigracion no es independiente de sexo\n",
      "\n"
     ]
    }
   ],
   "source": [
    "for cluster in iterator:\n",
    "    print('Para el cluster {0:d}'.format(cluster))\n",
    "    # EDA\n",
    "    df_slice = df[(df['edad'].isin([5, 6, 7, 8])) & (df['cluster'] == cluster)].copy()\n",
    "    p_inm_H = df_slice[df_slice['sexo'] == 'H']['inmigracion5_c_si'].sum() / df_slice[df_slice['sexo'] == 'H']['poblacion_total'].sum()\n",
    "    p_inm_M = df_slice[df_slice['sexo'] == 'M']['inmigracion5_c_si'].sum() / df_slice[df_slice['sexo'] == 'M']['poblacion_total'].sum()\n",
    "    print('La cantidad de hombres de edad 20-39 que debieron inmigrar es {0:d}~{1:.2f}%'.\n",
    "          format(df_slice[df_slice['sexo'] == 'H']['inmigracion5_c_si'].sum(), p_inm_H * 100))\n",
    "    print('La cantidad de mujeres de edad 20-39 que debieron inmigrar es {0:d}~{1:.2f}%'.\n",
    "          format(df_slice[df_slice['sexo'] == 'M']['inmigracion5_c_si'].sum(), p_inm_M * 100))\n",
    "    # Estadística\n",
    "    crosstab_counts = df_slice.groupby('sexo')[['inmigracion5_c_si', 'inmigracion5_c_no']].sum()\n",
    "    _, p_val, _, _ = scipy.stats.chi2_contingency(crosstab_counts)\n",
    "    print('Inmigracion {0:s}es independiente de sexo\\n'.format('no ' if p_val < 0.05 else ''))"
   ]
  },
  {
   "cell_type": "markdown",
   "metadata": {},
   "source": [
    "## Escena 8\n",
    "Edad 5 (40 a 59) Query: Agrupar por estado civil, remunerado y obtener cantidades"
   ]
  },
  {
   "cell_type": "code",
   "execution_count": 11,
   "metadata": {},
   "outputs": [
    {
     "name": "stdout",
     "output_type": "stream",
     "text": [
      "Para el cluster 3\n",
      "La cantidad de hombres de edad 40-59 emparejados no remunerados es 45208~7.16%\n",
      "La cantidad de mujeres de edad 40-59 emparejados no remunerados es 211793~28.13%\n",
      "Estado civil no es independiente de remuneración\n",
      "\n",
      "Para el cluster 2\n",
      "La cantidad de hombres de edad 40-59 emparejados no remunerados es 7252~32.41%\n",
      "La cantidad de mujeres de edad 40-59 emparejados no remunerados es 12255~53.11%\n",
      "Estado civil es independiente de remuneración\n",
      "\n"
     ]
    }
   ],
   "source": [
    "for cluster in iterator:\n",
    "    print('Para el cluster {0:d}'.format(cluster))\n",
    "    # EDA\n",
    "    df_slice = df[(df['edad'].isin([9, 10, 11, 12])) & (df['cluster'] == cluster)].copy()\n",
    "    p_inm_H = df_slice[df_slice['sexo'] == 'H']['remuneracion_x_pareja_c_no_remunerado_x_si'].sum() / df_slice[df_slice['sexo'] == 'H']['poblacion_total'].sum()\n",
    "    p_inm_M = df_slice[df_slice['sexo'] == 'M']['remuneracion_x_pareja_c_no_remunerado_x_si'].sum() / df_slice[df_slice['sexo'] == 'M']['poblacion_total'].sum()\n",
    "    print('La cantidad de hombres de edad 40-59 emparejados no remunerados es {0:d}~{1:.2f}%'.\n",
    "          format(df_slice[df_slice['sexo'] == 'H']['remuneracion_x_pareja_c_no_remunerado_x_si'].values[0], p_inm_H * 100))\n",
    "    print('La cantidad de mujeres de edad 40-59 emparejados no remunerados es {0:d}~{1:.2f}%'.\n",
    "          format(df_slice[df_slice['sexo'] == 'M']['remuneracion_x_pareja_c_no_remunerado_x_si'].values[0], p_inm_M * 100))\n",
    "    # Estadística\n",
    "    crosstab_counts = np.array([[df_slice['remuneracion_x_pareja_c_remunerado_x_si'].sum(), df_slice['remuneracion_x_pareja_c_no_remunerado_x_si'].sum()],\n",
    "         [df_slice['remuneracion_x_pareja_c_remunerado_x_no'].sum(), df_slice['remuneracion_x_pareja_c_no_remunerado_x_no'].sum()]])\n",
    "    _, p_val, _, _ = scipy.stats.chi2_contingency(crosstab_counts)\n",
    "    print('Estado civil {0:s}es independiente de remuneración\\n'.format('no ' if p_val < 0.05 else ''))"
   ]
  },
  {
   "cell_type": "markdown",
   "metadata": {},
   "source": [
    "## Escena 9\n",
    "Edades 40-59. Query: Filtrar por remunerado y ver la cantidad de nivel educativo por sexo.\n",
    "\n",
    "Las mujeres requieren de mayor competitividad académica para poder ser remuneradas."
   ]
  },
  {
   "cell_type": "code",
   "execution_count": 12,
   "metadata": {},
   "outputs": [
    {
     "name": "stdout",
     "output_type": "stream",
     "text": [
      "Para el cluster 3\n",
      "La cantidad de hombres de edad 40-59 remunerados sin educacion es 52919~1.88%\n",
      "La cantidad de hombres de edad 40-59 remunerados con educacion basica es 1643878~58.28%\n",
      "La cantidad de hombres de edad 40-59 remunerados con educacion avanzada es 705526~25.01%\n",
      "La cantidad de mujeres de edad 40-59 remunerados sin educacion es 33092~0.99%\n",
      "La cantidad de mujeres de edad 40-59 remunerados con educacion basica es 1118505~33.41%\n",
      "La cantidad de mujeres de edad 40-59 remunerados con educacion avanzada es 752375~22.47%\n",
      "Remuneracion por nivel de escolaridad no es independiente de sexo\n",
      "\n",
      "Para el cluster 2\n",
      "La cantidad de hombres de edad 40-59 remunerados sin educacion es 7975~10.97%\n",
      "La cantidad de hombres de edad 40-59 remunerados con educacion basica es 25133~34.57%\n",
      "La cantidad de hombres de edad 40-59 remunerados con educacion avanzada es 3231~4.44%\n",
      "La cantidad de mujeres de edad 40-59 remunerados sin educacion es 3692~5.16%\n",
      "La cantidad de mujeres de edad 40-59 remunerados con educacion basica es 9687~13.54%\n",
      "La cantidad de mujeres de edad 40-59 remunerados con educacion avanzada es 3592~5.02%\n",
      "Remuneracion por nivel de escolaridad no es independiente de sexo\n",
      "\n"
     ]
    }
   ],
   "source": [
    "for cluster in iterator:\n",
    "    print('Para el cluster {0:d}'.format(cluster))\n",
    "    # EDA\n",
    "    df_slice = df[(df['edad'].isin([9, 10, 11, 12])) & (df['cluster'] == cluster)].copy()\n",
    "    p_rem_no_H = df_slice[df_slice['sexo'] == 'H']['remuneracion_x_escolaridad_c_remunerado_x_no_escolaridad'].sum() / df_slice[df_slice['sexo'] == 'H']['poblacion_total'].sum()\n",
    "    p_rem_no_M = df_slice[df_slice['sexo'] == 'M']['remuneracion_x_escolaridad_c_remunerado_x_no_escolaridad'].sum() / df_slice[df_slice['sexo'] == 'M']['poblacion_total'].sum()\n",
    "    p_rem_bas_H = df_slice[df_slice['sexo'] == 'H']['remuneracion_x_escolaridad_c_remunerado_x_basico'].sum() / df_slice[df_slice['sexo'] == 'H']['poblacion_total'].sum()\n",
    "    p_rem_bas_M = df_slice[df_slice['sexo'] == 'M']['remuneracion_x_escolaridad_c_remunerado_x_basico'].sum() / df_slice[df_slice['sexo'] == 'M']['poblacion_total'].sum()\n",
    "    p_rem_av_H = df_slice[df_slice['sexo'] == 'H']['remuneracion_x_escolaridad_c_remunerado_x_avanzado'].sum() / df_slice[df_slice['sexo'] == 'H']['poblacion_total'].sum()\n",
    "    p_rem_av_M = df_slice[df_slice['sexo'] == 'M']['remuneracion_x_escolaridad_c_remunerado_x_avanzado'].sum() / df_slice[df_slice['sexo'] == 'M']['poblacion_total'].sum()\n",
    "    print('La cantidad de hombres de edad 40-59 remunerados sin educacion es {0:d}~{1:.2f}%'.\n",
    "          format(df_slice[df_slice['sexo'] == 'H']['remuneracion_x_escolaridad_c_remunerado_x_no_escolaridad'].sum(), p_rem_no_H * 100))\n",
    "    print('La cantidad de hombres de edad 40-59 remunerados con educacion basica es {0:d}~{1:.2f}%'.\n",
    "          format(df_slice[df_slice['sexo'] == 'H']['remuneracion_x_escolaridad_c_remunerado_x_basico'].sum(), p_rem_bas_H * 100))\n",
    "    print('La cantidad de hombres de edad 40-59 remunerados con educacion avanzada es {0:d}~{1:.2f}%'.\n",
    "          format(df_slice[df_slice['sexo'] == 'H']['remuneracion_x_escolaridad_c_remunerado_x_avanzado'].sum(), p_rem_av_H * 100))\n",
    "    print('La cantidad de mujeres de edad 40-59 remunerados sin educacion es {0:d}~{1:.2f}%'.\n",
    "          format(df_slice[df_slice['sexo'] == 'M']['remuneracion_x_escolaridad_c_remunerado_x_no_escolaridad'].sum(), p_rem_no_M * 100))\n",
    "    print('La cantidad de mujeres de edad 40-59 remunerados con educacion basica es {0:d}~{1:.2f}%'.\n",
    "          format(df_slice[df_slice['sexo'] == 'M']['remuneracion_x_escolaridad_c_remunerado_x_basico'].sum(), p_rem_bas_M * 100))\n",
    "    print('La cantidad de mujeres de edad 40-59 remunerados con educacion avanzada es {0:d}~{1:.2f}%'.\n",
    "          format(df_slice[df_slice['sexo'] == 'M']['remuneracion_x_escolaridad_c_remunerado_x_avanzado'].sum(), p_rem_av_M * 100))\n",
    "    # Estadística\n",
    "    crosstab_counts = df_slice.groupby('sexo')[['remuneracion_x_escolaridad_c_remunerado_x_no_escolaridad', 'remuneracion_x_escolaridad_c_remunerado_x_basico', 'remuneracion_x_escolaridad_c_remunerado_x_avanzado']].sum()\n",
    "    _, p_val, _, _ = scipy.stats.chi2_contingency(crosstab_counts)\n",
    "    print('Remuneracion por nivel de escolaridad {0:s}es independiente de sexo\\n'.format('no ' if p_val < 0.05 else ''))"
   ]
  },
  {
   "cell_type": "code",
   "execution_count": null,
   "metadata": {},
   "outputs": [],
   "source": []
  }
 ],
 "metadata": {
  "kernelspec": {
   "display_name": "Python 3",
   "language": "python",
   "name": "python3"
  },
  "language_info": {
   "codemirror_mode": {
    "name": "ipython",
    "version": 3
   },
   "file_extension": ".py",
   "mimetype": "text/x-python",
   "name": "python",
   "nbconvert_exporter": "python",
   "pygments_lexer": "ipython3",
   "version": "3.7.3"
  }
 },
 "nbformat": 4,
 "nbformat_minor": 2
}
